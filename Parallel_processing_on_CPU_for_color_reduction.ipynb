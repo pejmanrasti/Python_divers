{
  "nbformat": 4,
  "nbformat_minor": 0,
  "metadata": {
    "colab": {
      "provenance": [],
      "authorship_tag": "ABX9TyOm0OacxKn3xKtr0otFyT7Z",
      "include_colab_link": true
    },
    "kernelspec": {
      "name": "python3",
      "display_name": "Python 3"
    },
    "language_info": {
      "name": "python"
    }
  },
  "cells": [
    {
      "cell_type": "markdown",
      "metadata": {
        "id": "view-in-github",
        "colab_type": "text"
      },
      "source": [
        "<a href=\"https://colab.research.google.com/github/pejmanrasti/Python_divers/blob/main/Parallel_processing_on_CPU_for_color_reduction.ipynb\" target=\"_parent\"><img src=\"https://colab.research.google.com/assets/colab-badge.svg\" alt=\"Open In Colab\"/></a>"
      ]
    },
    {
      "cell_type": "code",
      "execution_count": null,
      "metadata": {
        "id": "Rslq6-uxYyne"
      },
      "outputs": [],
      "source": [
        "import concurrent.futures\n",
        "from PIL import Image\n",
        "import os\n",
        "\n",
        "def color_reduce(image_path):\n",
        "    with Image.open(image_path) as img:\n",
        "        # Perform color reduction here\n",
        "        img = img.convert('P', palette=Image.ADAPTIVE, colors=64)\n",
        "        # Save the image with a new name\n",
        "        img.save(f\"reduced_{image_path}\")\n",
        "\n",
        "if __name__ == '__main__':\n",
        "    # Get all image file paths in the local folder\n",
        "    image_paths = [os.path.join(\"path/to/folder\", f) for f in os.listdir(\"path/to/folder\") if f.endswith('.jpg')]\n",
        "    # Use a concurrent.futures.ProcessPoolExecutor to run color_reduce() on multiple CPU cores\n",
        "    with concurrent.futures.ProcessPoolExecutor() as executor:\n",
        "        executor.map(color_reduce, image_paths)"
      ]
    }
  ]
}